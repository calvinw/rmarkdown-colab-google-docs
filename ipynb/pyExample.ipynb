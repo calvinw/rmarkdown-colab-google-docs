{
 "cells": [
  {
   "cell_type": "markdown",
   "metadata": {},
   "source": [
    "\n",
    "This illustrates how to generate python notebooks (for colab) from rmarkdown files.\n"
   ]
  },
  {
   "cell_type": "code",
   "execution_count": null,
   "metadata": {},
   "outputs": [],
   "source": [
    "import matplotlib.pyplot as plt\n",
    "plt.plot([3,2,4,3,4,3], [1,4,9,16,9,12], 'o')\n",
    "plt.show()"
   ]
  },
  {
   "cell_type": "markdown",
   "metadata": {},
   "source": [
    "Lets compute a z-score:"
   ]
  },
  {
   "cell_type": "code",
   "execution_count": null,
   "metadata": {},
   "outputs": [],
   "source": [
    "x = 521 \n",
    "y = 32\n",
    "mu = 4\n",
    "sigma = 7\n",
    "numerator = x-mu\n",
    "z = numerator/sigma\n",
    "print(z)"
   ]
  },
  {
   "cell_type": "markdown",
   "metadata": {},
   "source": [
    "Here is some inline code evaluations: x = 521 and y = 32 below:\n",
    "\n",
    "These are possible using R evaluation but reticulate gives us access in the R session to the python variables. I wish this could be done like this:\n",
    "\n",
    "x = `python x` and y = `python y`, maybe in the future. Colab does not support inline code evaluation as far as I can tell.\n",
    "\n",
    "Finally here is some display LaTeX with inline code evaluation. \n",
    "\n",
    "$$\n",
    "z = \\frac{x-\\mu}{\\sigma} \n",
    "  = \\frac{521-4}{7} \n",
    "  = \\frac{517}{7} \n",
    "  = 73.8571429\n",
    "$$"
   ]
  }
 ],
 "metadata": {
  "jupytext": {
   "cell_metadata_filter": "-all"
  },
  "kernelspec": {
   "display_name": "Python 3",
   "language": "python",
   "name": "python3"
  }
 },
 "nbformat": 4,
 "nbformat_minor": 2
}
