{
 "cells": [
  {
   "cell_type": "code",
   "execution_count": null,
   "metadata": {},
   "outputs": [],
   "source": [
    "import sys\n",
    "print(sys.version)"
   ]
  },
  {
   "cell_type": "markdown",
   "metadata": {},
   "source": [
    "    ## 3.5.3 (default, Sep 27 2018, 17:25:39) \n",
    "    ## [GCC 6.3.0 20170516]\n",
    "\n",
    "Declare some variables here:"
   ]
  },
  {
   "cell_type": "code",
   "execution_count": null,
   "metadata": {},
   "outputs": [],
   "source": [
    "x = 4.34\n",
    "print(x)"
   ]
  },
  {
   "cell_type": "markdown",
   "metadata": {},
   "source": [
    "    ## 4.34\n",
    "\n",
    "Just to make sure variables are still available to other code blocks\n",
    "(This comes from using reticulate)"
   ]
  },
  {
   "cell_type": "code",
   "execution_count": null,
   "metadata": {},
   "outputs": [],
   "source": [
    "print(x)"
   ]
  },
  {
   "cell_type": "markdown",
   "metadata": {},
   "source": [
    "    ## 4.34\n",
    "\n",
    "Lets import numpy to show we can import modules:"
   ]
  },
  {
   "cell_type": "code",
   "execution_count": null,
   "metadata": {},
   "outputs": [],
   "source": [
    "import numpy as np\n",
    "print(np.__version__)"
   ]
  },
  {
   "cell_type": "markdown",
   "metadata": {},
   "source": [
    "    ## 1.17.0\n",
    "\n",
    "Now lets make an array:"
   ]
  },
  {
   "cell_type": "code",
   "execution_count": null,
   "metadata": {},
   "outputs": [],
   "source": [
    "y=np.array([[0,1,2,3],\n",
    "        [4,5,6,7]])\n",
    "print(y.ndim)"
   ]
  },
  {
   "cell_type": "markdown",
   "metadata": {},
   "source": [
    "    ## 2"
   ]
  },
  {
   "cell_type": "code",
   "execution_count": null,
   "metadata": {},
   "outputs": [],
   "source": [
    "print(y.shape)"
   ]
  },
  {
   "cell_type": "markdown",
   "metadata": {},
   "source": [
    "    ## (2, 4)\n",
    "\n",
    "Here is some LaTeX:\n",
    "\n",
    "$$ x = \\frac{2}{3} $$\n",
    "\n",
    "The following is needed to run matplotlib in a notebook, but dont\n",
    "evaluate it:"
   ]
  },
  {
   "cell_type": "code",
   "execution_count": null,
   "metadata": {},
   "outputs": [],
   "source": [
    "%matplotlib inline"
   ]
  },
  {
   "cell_type": "markdown",
   "metadata": {},
   "source": [
    "Here is some graphics then:"
   ]
  },
  {
   "cell_type": "code",
   "execution_count": null,
   "metadata": {},
   "outputs": [],
   "source": [
    "import matplotlib.pyplot as plt\n",
    "plt.plot([32,31,2,3,5,32],[32,23,3,4,4,32], \"o\")\n",
    "plt.show()"
   ]
  },
  {
   "cell_type": "markdown",
   "metadata": {},
   "source": [
    "![](attachment:/home/calvinewilliamson/develop/rmarkdown-colab-google-docs/pyExample_files/figure-markdown/unnamed-chunk-7-1.png)"
   ],
   "attachments": {
    "/home/calvinewilliamson/develop/rmarkdown-colab-google-docs/pyExample_files/figure-markdown/unnamed-chunk-7-1.png": {
     "image/png": "[encoded data removed]"
    }
   }
  }
 ],
 "nbformat": 4,
 "nbformat_minor": 5,
 "metadata": {
  "kernelspec": {
   "name": "python3",
   "display_name": "Python 3",
   "language": "python"
  }
 }
}

